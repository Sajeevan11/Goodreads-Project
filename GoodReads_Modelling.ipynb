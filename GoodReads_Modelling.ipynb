{
 "cells": [
  {
   "cell_type": "code",
   "execution_count": 5,
   "id": "ec3bef95-33c4-42dc-8f00-19b0c7d375bd",
   "metadata": {},
   "outputs": [],
   "source": [
    "# Suppress warnings thrown by different packages\n",
    "import warnings\n",
    "warnings.filterwarnings(\"ignore\")\n",
    "\n",
    "import numpy as np\n",
    "import pandas as pd\n",
    "from sklearn.model_selection import train_test_split\n",
    "from sklearn.ensemble import RandomForestRegressor\n",
    "from sklearn.preprocessing import LabelEncoder\n",
    "\n",
    "# Set Pandas Options to Display all rows & columns when displayed\n",
    "pd.set_option('display.max_columns', None)\n",
    "pd.set_option('display.max_rows', None)"
   ]
  },
  {
   "cell_type": "code",
   "execution_count": 6,
   "id": "5ae3783b-928b-47e1-979d-37590c02c4d3",
   "metadata": {},
   "outputs": [],
   "source": [
    "# Read the Dataset\n",
    "df = pd.read_csv(r\"C:\\Users\\Ashis\\Desktop\\ML Project\\Project 1\\books_features_enhanced.csv\")\n",
    "df.drop('Unnamed: 0', axis=1, inplace=True)"
   ]
  },
  {
   "cell_type": "code",
   "execution_count": 7,
   "id": "462461c9",
   "metadata": {},
   "outputs": [],
   "source": [
    "# Selected features based on EDA\n",
    "cols = ['average_rating', 'num_pages', 'ratings_count', 'text_reviews_count', 'curr_age', 'num_authors', \n",
    "       'langs', 'single_author', 'double_author', 'triple_author', 'multi_author', 'IsAudio', 'books_cnt', 'num_lng_iso', \n",
    "        'num_publishers', 'chgs_authors', 'num_ratings', 'num_langs', 'num_txrvws', 'times_published', 'oldest_pub_age', \n",
    "        'last_pub_age', 'first_pub_lang', 'max_pages', 'min_pages', 'med_pages', 'pub_intvl', 'auth_cat', 'IsClass', 'IsBio',\n",
    "       'IsAuto', 'IsAuBio', 'IsBuss', 'IsPolit', 'IsPhil', 'IsHist', 'HasStories', 'IsAntho', 'IsColl', 'IsPlay', 'IsPoem',\n",
    "        'HasParts', 'tot_rvws', 'decade', 'year', 'month', 'week', 'pop_idx', 'lit_idx', 'gpc_idx']"
   ]
  },
  {
   "cell_type": "code",
   "execution_count": 8,
   "id": "c934b6f9",
   "metadata": {},
   "outputs": [
    {
     "data": {
      "text/html": [
       "<div>\n",
       "<style scoped>\n",
       "    .dataframe tbody tr th:only-of-type {\n",
       "        vertical-align: middle;\n",
       "    }\n",
       "\n",
       "    .dataframe tbody tr th {\n",
       "        vertical-align: top;\n",
       "    }\n",
       "\n",
       "    .dataframe thead th {\n",
       "        text-align: right;\n",
       "    }\n",
       "</style>\n",
       "<table border=\"1\" class=\"dataframe\">\n",
       "  <thead>\n",
       "    <tr style=\"text-align: right;\">\n",
       "      <th></th>\n",
       "      <th>average_rating</th>\n",
       "      <th>num_pages</th>\n",
       "      <th>ratings_count</th>\n",
       "      <th>text_reviews_count</th>\n",
       "      <th>curr_age</th>\n",
       "      <th>num_authors</th>\n",
       "      <th>langs</th>\n",
       "      <th>single_author</th>\n",
       "      <th>double_author</th>\n",
       "      <th>triple_author</th>\n",
       "      <th>multi_author</th>\n",
       "      <th>IsAudio</th>\n",
       "      <th>books_cnt</th>\n",
       "      <th>num_lng_iso</th>\n",
       "      <th>num_publishers</th>\n",
       "      <th>chgs_authors</th>\n",
       "      <th>num_ratings</th>\n",
       "      <th>num_langs</th>\n",
       "      <th>num_txrvws</th>\n",
       "      <th>times_published</th>\n",
       "      <th>oldest_pub_age</th>\n",
       "      <th>last_pub_age</th>\n",
       "      <th>first_pub_lang</th>\n",
       "      <th>max_pages</th>\n",
       "      <th>min_pages</th>\n",
       "      <th>med_pages</th>\n",
       "      <th>pub_intvl</th>\n",
       "      <th>auth_cat</th>\n",
       "      <th>IsClass</th>\n",
       "      <th>IsBio</th>\n",
       "      <th>IsAuto</th>\n",
       "      <th>IsAuBio</th>\n",
       "      <th>IsBuss</th>\n",
       "      <th>IsPolit</th>\n",
       "      <th>IsPhil</th>\n",
       "      <th>IsHist</th>\n",
       "      <th>HasStories</th>\n",
       "      <th>IsAntho</th>\n",
       "      <th>IsColl</th>\n",
       "      <th>IsPlay</th>\n",
       "      <th>IsPoem</th>\n",
       "      <th>HasParts</th>\n",
       "      <th>tot_rvws</th>\n",
       "      <th>decade</th>\n",
       "      <th>year</th>\n",
       "      <th>month</th>\n",
       "      <th>week</th>\n",
       "      <th>pop_idx</th>\n",
       "      <th>lit_idx</th>\n",
       "      <th>gpc_idx</th>\n",
       "    </tr>\n",
       "  </thead>\n",
       "  <tbody>\n",
       "    <tr>\n",
       "      <th>0</th>\n",
       "      <td>3.88</td>\n",
       "      <td>144</td>\n",
       "      <td>332</td>\n",
       "      <td>33</td>\n",
       "      <td>1512.0</td>\n",
       "      <td>2</td>\n",
       "      <td>eng</td>\n",
       "      <td>0</td>\n",
       "      <td>1</td>\n",
       "      <td>0</td>\n",
       "      <td>0</td>\n",
       "      <td>0</td>\n",
       "      <td>1.0</td>\n",
       "      <td>1.0</td>\n",
       "      <td>1.0</td>\n",
       "      <td>1.0</td>\n",
       "      <td>332.0</td>\n",
       "      <td>1.0</td>\n",
       "      <td>33.0</td>\n",
       "      <td>1.0</td>\n",
       "      <td>1512.0</td>\n",
       "      <td>1512.0</td>\n",
       "      <td>eng</td>\n",
       "      <td>144.0</td>\n",
       "      <td>144.0</td>\n",
       "      <td>144.0</td>\n",
       "      <td>0.0</td>\n",
       "      <td>double</td>\n",
       "      <td>0</td>\n",
       "      <td>0</td>\n",
       "      <td>0</td>\n",
       "      <td>0</td>\n",
       "      <td>0</td>\n",
       "      <td>0</td>\n",
       "      <td>0</td>\n",
       "      <td>0</td>\n",
       "      <td>0</td>\n",
       "      <td>0</td>\n",
       "      <td>0</td>\n",
       "      <td>0</td>\n",
       "      <td>0</td>\n",
       "      <td>0</td>\n",
       "      <td>365</td>\n",
       "      <td>1900</td>\n",
       "      <td>1900</td>\n",
       "      <td>1</td>\n",
       "      <td>1</td>\n",
       "      <td>100</td>\n",
       "      <td>21</td>\n",
       "      <td>100</td>\n",
       "    </tr>\n",
       "    <tr>\n",
       "      <th>1</th>\n",
       "      <td>3.96</td>\n",
       "      <td>448</td>\n",
       "      <td>111</td>\n",
       "      <td>11</td>\n",
       "      <td>1353.0</td>\n",
       "      <td>2</td>\n",
       "      <td>eng</td>\n",
       "      <td>0</td>\n",
       "      <td>1</td>\n",
       "      <td>0</td>\n",
       "      <td>0</td>\n",
       "      <td>0</td>\n",
       "      <td>1.0</td>\n",
       "      <td>1.0</td>\n",
       "      <td>1.0</td>\n",
       "      <td>1.0</td>\n",
       "      <td>111.0</td>\n",
       "      <td>1.0</td>\n",
       "      <td>11.0</td>\n",
       "      <td>1.0</td>\n",
       "      <td>1353.0</td>\n",
       "      <td>1353.0</td>\n",
       "      <td>eng</td>\n",
       "      <td>448.0</td>\n",
       "      <td>448.0</td>\n",
       "      <td>448.0</td>\n",
       "      <td>0.0</td>\n",
       "      <td>double</td>\n",
       "      <td>0</td>\n",
       "      <td>0</td>\n",
       "      <td>0</td>\n",
       "      <td>0</td>\n",
       "      <td>0</td>\n",
       "      <td>0</td>\n",
       "      <td>0</td>\n",
       "      <td>0</td>\n",
       "      <td>0</td>\n",
       "      <td>0</td>\n",
       "      <td>0</td>\n",
       "      <td>0</td>\n",
       "      <td>0</td>\n",
       "      <td>0</td>\n",
       "      <td>122</td>\n",
       "      <td>1910</td>\n",
       "      <td>1913</td>\n",
       "      <td>1</td>\n",
       "      <td>1</td>\n",
       "      <td>109</td>\n",
       "      <td>26</td>\n",
       "      <td>100</td>\n",
       "    </tr>\n",
       "    <tr>\n",
       "      <th>2</th>\n",
       "      <td>3.95</td>\n",
       "      <td>384</td>\n",
       "      <td>87</td>\n",
       "      <td>7</td>\n",
       "      <td>1341.0</td>\n",
       "      <td>6</td>\n",
       "      <td>mul</td>\n",
       "      <td>0</td>\n",
       "      <td>0</td>\n",
       "      <td>0</td>\n",
       "      <td>1</td>\n",
       "      <td>0</td>\n",
       "      <td>1.0</td>\n",
       "      <td>1.0</td>\n",
       "      <td>1.0</td>\n",
       "      <td>1.0</td>\n",
       "      <td>87.0</td>\n",
       "      <td>1.0</td>\n",
       "      <td>7.0</td>\n",
       "      <td>1.0</td>\n",
       "      <td>1341.0</td>\n",
       "      <td>1341.0</td>\n",
       "      <td>mul</td>\n",
       "      <td>384.0</td>\n",
       "      <td>384.0</td>\n",
       "      <td>384.0</td>\n",
       "      <td>0.0</td>\n",
       "      <td>multiple</td>\n",
       "      <td>0</td>\n",
       "      <td>0</td>\n",
       "      <td>0</td>\n",
       "      <td>0</td>\n",
       "      <td>0</td>\n",
       "      <td>0</td>\n",
       "      <td>0</td>\n",
       "      <td>0</td>\n",
       "      <td>0</td>\n",
       "      <td>0</td>\n",
       "      <td>0</td>\n",
       "      <td>0</td>\n",
       "      <td>0</td>\n",
       "      <td>0</td>\n",
       "      <td>94</td>\n",
       "      <td>1910</td>\n",
       "      <td>1914</td>\n",
       "      <td>1</td>\n",
       "      <td>1</td>\n",
       "      <td>109</td>\n",
       "      <td>26</td>\n",
       "      <td>100</td>\n",
       "    </tr>\n",
       "    <tr>\n",
       "      <th>3</th>\n",
       "      <td>4.32</td>\n",
       "      <td>496</td>\n",
       "      <td>208</td>\n",
       "      <td>7</td>\n",
       "      <td>1280.0</td>\n",
       "      <td>2</td>\n",
       "      <td>mul</td>\n",
       "      <td>0</td>\n",
       "      <td>1</td>\n",
       "      <td>0</td>\n",
       "      <td>0</td>\n",
       "      <td>0</td>\n",
       "      <td>1.0</td>\n",
       "      <td>1.0</td>\n",
       "      <td>1.0</td>\n",
       "      <td>1.0</td>\n",
       "      <td>208.0</td>\n",
       "      <td>1.0</td>\n",
       "      <td>7.0</td>\n",
       "      <td>1.0</td>\n",
       "      <td>1280.0</td>\n",
       "      <td>1280.0</td>\n",
       "      <td>mul</td>\n",
       "      <td>496.0</td>\n",
       "      <td>496.0</td>\n",
       "      <td>496.0</td>\n",
       "      <td>0.0</td>\n",
       "      <td>double</td>\n",
       "      <td>0</td>\n",
       "      <td>0</td>\n",
       "      <td>0</td>\n",
       "      <td>0</td>\n",
       "      <td>0</td>\n",
       "      <td>1</td>\n",
       "      <td>0</td>\n",
       "      <td>0</td>\n",
       "      <td>0</td>\n",
       "      <td>0</td>\n",
       "      <td>0</td>\n",
       "      <td>0</td>\n",
       "      <td>0</td>\n",
       "      <td>0</td>\n",
       "      <td>215</td>\n",
       "      <td>1910</td>\n",
       "      <td>1919</td>\n",
       "      <td>1</td>\n",
       "      <td>1</td>\n",
       "      <td>109</td>\n",
       "      <td>26</td>\n",
       "      <td>100</td>\n",
       "    </tr>\n",
       "    <tr>\n",
       "      <th>4</th>\n",
       "      <td>3.93</td>\n",
       "      <td>464</td>\n",
       "      <td>21</td>\n",
       "      <td>2</td>\n",
       "      <td>1256.0</td>\n",
       "      <td>2</td>\n",
       "      <td>mul</td>\n",
       "      <td>0</td>\n",
       "      <td>1</td>\n",
       "      <td>0</td>\n",
       "      <td>0</td>\n",
       "      <td>0</td>\n",
       "      <td>1.0</td>\n",
       "      <td>1.0</td>\n",
       "      <td>1.0</td>\n",
       "      <td>1.0</td>\n",
       "      <td>21.0</td>\n",
       "      <td>1.0</td>\n",
       "      <td>2.0</td>\n",
       "      <td>1.0</td>\n",
       "      <td>1256.0</td>\n",
       "      <td>1256.0</td>\n",
       "      <td>mul</td>\n",
       "      <td>464.0</td>\n",
       "      <td>464.0</td>\n",
       "      <td>464.0</td>\n",
       "      <td>0.0</td>\n",
       "      <td>double</td>\n",
       "      <td>0</td>\n",
       "      <td>0</td>\n",
       "      <td>0</td>\n",
       "      <td>0</td>\n",
       "      <td>0</td>\n",
       "      <td>0</td>\n",
       "      <td>0</td>\n",
       "      <td>0</td>\n",
       "      <td>0</td>\n",
       "      <td>0</td>\n",
       "      <td>1</td>\n",
       "      <td>0</td>\n",
       "      <td>0</td>\n",
       "      <td>0</td>\n",
       "      <td>23</td>\n",
       "      <td>1920</td>\n",
       "      <td>1921</td>\n",
       "      <td>1</td>\n",
       "      <td>53</td>\n",
       "      <td>117</td>\n",
       "      <td>32</td>\n",
       "      <td>101</td>\n",
       "    </tr>\n",
       "  </tbody>\n",
       "</table>\n",
       "</div>"
      ],
      "text/plain": [
       "   average_rating  num_pages  ratings_count  text_reviews_count  curr_age  \\\n",
       "0            3.88        144            332                  33    1512.0   \n",
       "1            3.96        448            111                  11    1353.0   \n",
       "2            3.95        384             87                   7    1341.0   \n",
       "3            4.32        496            208                   7    1280.0   \n",
       "4            3.93        464             21                   2    1256.0   \n",
       "\n",
       "   num_authors langs  single_author  double_author  triple_author  \\\n",
       "0            2   eng              0              1              0   \n",
       "1            2   eng              0              1              0   \n",
       "2            6   mul              0              0              0   \n",
       "3            2   mul              0              1              0   \n",
       "4            2   mul              0              1              0   \n",
       "\n",
       "   multi_author  IsAudio  books_cnt  num_lng_iso  num_publishers  \\\n",
       "0             0        0        1.0          1.0             1.0   \n",
       "1             0        0        1.0          1.0             1.0   \n",
       "2             1        0        1.0          1.0             1.0   \n",
       "3             0        0        1.0          1.0             1.0   \n",
       "4             0        0        1.0          1.0             1.0   \n",
       "\n",
       "   chgs_authors  num_ratings  num_langs  num_txrvws  times_published  \\\n",
       "0           1.0        332.0        1.0        33.0              1.0   \n",
       "1           1.0        111.0        1.0        11.0              1.0   \n",
       "2           1.0         87.0        1.0         7.0              1.0   \n",
       "3           1.0        208.0        1.0         7.0              1.0   \n",
       "4           1.0         21.0        1.0         2.0              1.0   \n",
       "\n",
       "   oldest_pub_age  last_pub_age first_pub_lang  max_pages  min_pages  \\\n",
       "0          1512.0        1512.0            eng      144.0      144.0   \n",
       "1          1353.0        1353.0            eng      448.0      448.0   \n",
       "2          1341.0        1341.0            mul      384.0      384.0   \n",
       "3          1280.0        1280.0            mul      496.0      496.0   \n",
       "4          1256.0        1256.0            mul      464.0      464.0   \n",
       "\n",
       "   med_pages  pub_intvl  auth_cat  IsClass  IsBio  IsAuto  IsAuBio  IsBuss  \\\n",
       "0      144.0        0.0    double        0      0       0        0       0   \n",
       "1      448.0        0.0    double        0      0       0        0       0   \n",
       "2      384.0        0.0  multiple        0      0       0        0       0   \n",
       "3      496.0        0.0    double        0      0       0        0       0   \n",
       "4      464.0        0.0    double        0      0       0        0       0   \n",
       "\n",
       "   IsPolit  IsPhil  IsHist  HasStories  IsAntho  IsColl  IsPlay  IsPoem  \\\n",
       "0        0       0       0           0        0       0       0       0   \n",
       "1        0       0       0           0        0       0       0       0   \n",
       "2        0       0       0           0        0       0       0       0   \n",
       "3        1       0       0           0        0       0       0       0   \n",
       "4        0       0       0           0        0       1       0       0   \n",
       "\n",
       "   HasParts  tot_rvws  decade  year  month  week  pop_idx  lit_idx  gpc_idx  \n",
       "0         0       365    1900  1900      1     1      100       21      100  \n",
       "1         0       122    1910  1913      1     1      109       26      100  \n",
       "2         0        94    1910  1914      1     1      109       26      100  \n",
       "3         0       215    1910  1919      1     1      109       26      100  \n",
       "4         0        23    1920  1921      1    53      117       32      101  "
      ]
     },
     "execution_count": 8,
     "metadata": {},
     "output_type": "execute_result"
    }
   ],
   "source": [
    "df[cols].head()"
   ]
  },
  {
   "cell_type": "code",
   "execution_count": 9,
   "id": "8a6269c0",
   "metadata": {
    "scrolled": true
   },
   "outputs": [
    {
     "data": {
      "text/html": [
       "<div>\n",
       "<style scoped>\n",
       "    .dataframe tbody tr th:only-of-type {\n",
       "        vertical-align: middle;\n",
       "    }\n",
       "\n",
       "    .dataframe tbody tr th {\n",
       "        vertical-align: top;\n",
       "    }\n",
       "\n",
       "    .dataframe thead th {\n",
       "        text-align: right;\n",
       "    }\n",
       "</style>\n",
       "<table border=\"1\" class=\"dataframe\">\n",
       "  <thead>\n",
       "    <tr style=\"text-align: right;\">\n",
       "      <th></th>\n",
       "      <th>average_rating</th>\n",
       "      <th>num_pages</th>\n",
       "      <th>ratings_count</th>\n",
       "      <th>text_reviews_count</th>\n",
       "      <th>curr_age</th>\n",
       "      <th>num_authors</th>\n",
       "      <th>langs</th>\n",
       "      <th>single_author</th>\n",
       "      <th>double_author</th>\n",
       "      <th>triple_author</th>\n",
       "      <th>multi_author</th>\n",
       "      <th>IsAudio</th>\n",
       "      <th>books_cnt</th>\n",
       "      <th>num_lng_iso</th>\n",
       "      <th>num_publishers</th>\n",
       "      <th>chgs_authors</th>\n",
       "      <th>num_ratings</th>\n",
       "      <th>num_langs</th>\n",
       "      <th>num_txrvws</th>\n",
       "      <th>times_published</th>\n",
       "      <th>oldest_pub_age</th>\n",
       "      <th>last_pub_age</th>\n",
       "      <th>first_pub_lang</th>\n",
       "      <th>max_pages</th>\n",
       "      <th>min_pages</th>\n",
       "      <th>med_pages</th>\n",
       "      <th>pub_intvl</th>\n",
       "      <th>auth_cat</th>\n",
       "      <th>IsClass</th>\n",
       "      <th>IsBio</th>\n",
       "      <th>IsAuto</th>\n",
       "      <th>IsAuBio</th>\n",
       "      <th>IsBuss</th>\n",
       "      <th>IsPolit</th>\n",
       "      <th>IsPhil</th>\n",
       "      <th>IsHist</th>\n",
       "      <th>HasStories</th>\n",
       "      <th>IsAntho</th>\n",
       "      <th>IsColl</th>\n",
       "      <th>IsPlay</th>\n",
       "      <th>IsPoem</th>\n",
       "      <th>HasParts</th>\n",
       "      <th>tot_rvws</th>\n",
       "      <th>decade</th>\n",
       "      <th>year</th>\n",
       "      <th>month</th>\n",
       "      <th>week</th>\n",
       "      <th>pop_idx</th>\n",
       "      <th>lit_idx</th>\n",
       "      <th>gpc_idx</th>\n",
       "    </tr>\n",
       "  </thead>\n",
       "  <tbody>\n",
       "    <tr>\n",
       "      <th>0</th>\n",
       "      <td>3.88</td>\n",
       "      <td>144</td>\n",
       "      <td>332</td>\n",
       "      <td>33</td>\n",
       "      <td>1512.0</td>\n",
       "      <td>2</td>\n",
       "      <td>0</td>\n",
       "      <td>0</td>\n",
       "      <td>1</td>\n",
       "      <td>0</td>\n",
       "      <td>0</td>\n",
       "      <td>0</td>\n",
       "      <td>1.0</td>\n",
       "      <td>1.0</td>\n",
       "      <td>1.0</td>\n",
       "      <td>1.0</td>\n",
       "      <td>332.0</td>\n",
       "      <td>1.0</td>\n",
       "      <td>33.0</td>\n",
       "      <td>1.0</td>\n",
       "      <td>1512.0</td>\n",
       "      <td>1512.0</td>\n",
       "      <td>0</td>\n",
       "      <td>144.0</td>\n",
       "      <td>144.0</td>\n",
       "      <td>144.0</td>\n",
       "      <td>0.0</td>\n",
       "      <td>0</td>\n",
       "      <td>0</td>\n",
       "      <td>0</td>\n",
       "      <td>0</td>\n",
       "      <td>0</td>\n",
       "      <td>0</td>\n",
       "      <td>0</td>\n",
       "      <td>0</td>\n",
       "      <td>0</td>\n",
       "      <td>0</td>\n",
       "      <td>0</td>\n",
       "      <td>0</td>\n",
       "      <td>0</td>\n",
       "      <td>0</td>\n",
       "      <td>0</td>\n",
       "      <td>365</td>\n",
       "      <td>1900</td>\n",
       "      <td>0</td>\n",
       "      <td>0</td>\n",
       "      <td>0</td>\n",
       "      <td>100</td>\n",
       "      <td>21</td>\n",
       "      <td>100</td>\n",
       "    </tr>\n",
       "    <tr>\n",
       "      <th>1</th>\n",
       "      <td>3.96</td>\n",
       "      <td>448</td>\n",
       "      <td>111</td>\n",
       "      <td>11</td>\n",
       "      <td>1353.0</td>\n",
       "      <td>2</td>\n",
       "      <td>0</td>\n",
       "      <td>0</td>\n",
       "      <td>1</td>\n",
       "      <td>0</td>\n",
       "      <td>0</td>\n",
       "      <td>0</td>\n",
       "      <td>1.0</td>\n",
       "      <td>1.0</td>\n",
       "      <td>1.0</td>\n",
       "      <td>1.0</td>\n",
       "      <td>111.0</td>\n",
       "      <td>1.0</td>\n",
       "      <td>11.0</td>\n",
       "      <td>1.0</td>\n",
       "      <td>1353.0</td>\n",
       "      <td>1353.0</td>\n",
       "      <td>0</td>\n",
       "      <td>448.0</td>\n",
       "      <td>448.0</td>\n",
       "      <td>448.0</td>\n",
       "      <td>0.0</td>\n",
       "      <td>0</td>\n",
       "      <td>0</td>\n",
       "      <td>0</td>\n",
       "      <td>0</td>\n",
       "      <td>0</td>\n",
       "      <td>0</td>\n",
       "      <td>0</td>\n",
       "      <td>0</td>\n",
       "      <td>0</td>\n",
       "      <td>0</td>\n",
       "      <td>0</td>\n",
       "      <td>0</td>\n",
       "      <td>0</td>\n",
       "      <td>0</td>\n",
       "      <td>0</td>\n",
       "      <td>122</td>\n",
       "      <td>1910</td>\n",
       "      <td>1</td>\n",
       "      <td>0</td>\n",
       "      <td>0</td>\n",
       "      <td>109</td>\n",
       "      <td>26</td>\n",
       "      <td>100</td>\n",
       "    </tr>\n",
       "    <tr>\n",
       "      <th>2</th>\n",
       "      <td>3.95</td>\n",
       "      <td>384</td>\n",
       "      <td>87</td>\n",
       "      <td>7</td>\n",
       "      <td>1341.0</td>\n",
       "      <td>6</td>\n",
       "      <td>5</td>\n",
       "      <td>0</td>\n",
       "      <td>0</td>\n",
       "      <td>0</td>\n",
       "      <td>1</td>\n",
       "      <td>0</td>\n",
       "      <td>1.0</td>\n",
       "      <td>1.0</td>\n",
       "      <td>1.0</td>\n",
       "      <td>1.0</td>\n",
       "      <td>87.0</td>\n",
       "      <td>1.0</td>\n",
       "      <td>7.0</td>\n",
       "      <td>1.0</td>\n",
       "      <td>1341.0</td>\n",
       "      <td>1341.0</td>\n",
       "      <td>5</td>\n",
       "      <td>384.0</td>\n",
       "      <td>384.0</td>\n",
       "      <td>384.0</td>\n",
       "      <td>0.0</td>\n",
       "      <td>1</td>\n",
       "      <td>0</td>\n",
       "      <td>0</td>\n",
       "      <td>0</td>\n",
       "      <td>0</td>\n",
       "      <td>0</td>\n",
       "      <td>0</td>\n",
       "      <td>0</td>\n",
       "      <td>0</td>\n",
       "      <td>0</td>\n",
       "      <td>0</td>\n",
       "      <td>0</td>\n",
       "      <td>0</td>\n",
       "      <td>0</td>\n",
       "      <td>0</td>\n",
       "      <td>94</td>\n",
       "      <td>1910</td>\n",
       "      <td>2</td>\n",
       "      <td>0</td>\n",
       "      <td>0</td>\n",
       "      <td>109</td>\n",
       "      <td>26</td>\n",
       "      <td>100</td>\n",
       "    </tr>\n",
       "    <tr>\n",
       "      <th>3</th>\n",
       "      <td>4.32</td>\n",
       "      <td>496</td>\n",
       "      <td>208</td>\n",
       "      <td>7</td>\n",
       "      <td>1280.0</td>\n",
       "      <td>2</td>\n",
       "      <td>5</td>\n",
       "      <td>0</td>\n",
       "      <td>1</td>\n",
       "      <td>0</td>\n",
       "      <td>0</td>\n",
       "      <td>0</td>\n",
       "      <td>1.0</td>\n",
       "      <td>1.0</td>\n",
       "      <td>1.0</td>\n",
       "      <td>1.0</td>\n",
       "      <td>208.0</td>\n",
       "      <td>1.0</td>\n",
       "      <td>7.0</td>\n",
       "      <td>1.0</td>\n",
       "      <td>1280.0</td>\n",
       "      <td>1280.0</td>\n",
       "      <td>5</td>\n",
       "      <td>496.0</td>\n",
       "      <td>496.0</td>\n",
       "      <td>496.0</td>\n",
       "      <td>0.0</td>\n",
       "      <td>0</td>\n",
       "      <td>0</td>\n",
       "      <td>0</td>\n",
       "      <td>0</td>\n",
       "      <td>0</td>\n",
       "      <td>0</td>\n",
       "      <td>1</td>\n",
       "      <td>0</td>\n",
       "      <td>0</td>\n",
       "      <td>0</td>\n",
       "      <td>0</td>\n",
       "      <td>0</td>\n",
       "      <td>0</td>\n",
       "      <td>0</td>\n",
       "      <td>0</td>\n",
       "      <td>215</td>\n",
       "      <td>1910</td>\n",
       "      <td>3</td>\n",
       "      <td>0</td>\n",
       "      <td>0</td>\n",
       "      <td>109</td>\n",
       "      <td>26</td>\n",
       "      <td>100</td>\n",
       "    </tr>\n",
       "    <tr>\n",
       "      <th>4</th>\n",
       "      <td>3.93</td>\n",
       "      <td>464</td>\n",
       "      <td>21</td>\n",
       "      <td>2</td>\n",
       "      <td>1256.0</td>\n",
       "      <td>2</td>\n",
       "      <td>5</td>\n",
       "      <td>0</td>\n",
       "      <td>1</td>\n",
       "      <td>0</td>\n",
       "      <td>0</td>\n",
       "      <td>0</td>\n",
       "      <td>1.0</td>\n",
       "      <td>1.0</td>\n",
       "      <td>1.0</td>\n",
       "      <td>1.0</td>\n",
       "      <td>21.0</td>\n",
       "      <td>1.0</td>\n",
       "      <td>2.0</td>\n",
       "      <td>1.0</td>\n",
       "      <td>1256.0</td>\n",
       "      <td>1256.0</td>\n",
       "      <td>5</td>\n",
       "      <td>464.0</td>\n",
       "      <td>464.0</td>\n",
       "      <td>464.0</td>\n",
       "      <td>0.0</td>\n",
       "      <td>0</td>\n",
       "      <td>0</td>\n",
       "      <td>0</td>\n",
       "      <td>0</td>\n",
       "      <td>0</td>\n",
       "      <td>0</td>\n",
       "      <td>0</td>\n",
       "      <td>0</td>\n",
       "      <td>0</td>\n",
       "      <td>0</td>\n",
       "      <td>0</td>\n",
       "      <td>1</td>\n",
       "      <td>0</td>\n",
       "      <td>0</td>\n",
       "      <td>0</td>\n",
       "      <td>23</td>\n",
       "      <td>1920</td>\n",
       "      <td>4</td>\n",
       "      <td>0</td>\n",
       "      <td>52</td>\n",
       "      <td>117</td>\n",
       "      <td>32</td>\n",
       "      <td>101</td>\n",
       "    </tr>\n",
       "  </tbody>\n",
       "</table>\n",
       "</div>"
      ],
      "text/plain": [
       "   average_rating  num_pages  ratings_count  text_reviews_count  curr_age  \\\n",
       "0            3.88        144            332                  33    1512.0   \n",
       "1            3.96        448            111                  11    1353.0   \n",
       "2            3.95        384             87                   7    1341.0   \n",
       "3            4.32        496            208                   7    1280.0   \n",
       "4            3.93        464             21                   2    1256.0   \n",
       "\n",
       "   num_authors  langs  single_author  double_author  triple_author  \\\n",
       "0            2      0              0              1              0   \n",
       "1            2      0              0              1              0   \n",
       "2            6      5              0              0              0   \n",
       "3            2      5              0              1              0   \n",
       "4            2      5              0              1              0   \n",
       "\n",
       "   multi_author  IsAudio  books_cnt  num_lng_iso  num_publishers  \\\n",
       "0             0        0        1.0          1.0             1.0   \n",
       "1             0        0        1.0          1.0             1.0   \n",
       "2             1        0        1.0          1.0             1.0   \n",
       "3             0        0        1.0          1.0             1.0   \n",
       "4             0        0        1.0          1.0             1.0   \n",
       "\n",
       "   chgs_authors  num_ratings  num_langs  num_txrvws  times_published  \\\n",
       "0           1.0        332.0        1.0        33.0              1.0   \n",
       "1           1.0        111.0        1.0        11.0              1.0   \n",
       "2           1.0         87.0        1.0         7.0              1.0   \n",
       "3           1.0        208.0        1.0         7.0              1.0   \n",
       "4           1.0         21.0        1.0         2.0              1.0   \n",
       "\n",
       "   oldest_pub_age  last_pub_age  first_pub_lang  max_pages  min_pages  \\\n",
       "0          1512.0        1512.0               0      144.0      144.0   \n",
       "1          1353.0        1353.0               0      448.0      448.0   \n",
       "2          1341.0        1341.0               5      384.0      384.0   \n",
       "3          1280.0        1280.0               5      496.0      496.0   \n",
       "4          1256.0        1256.0               5      464.0      464.0   \n",
       "\n",
       "   med_pages  pub_intvl  auth_cat  IsClass  IsBio  IsAuto  IsAuBio  IsBuss  \\\n",
       "0      144.0        0.0         0        0      0       0        0       0   \n",
       "1      448.0        0.0         0        0      0       0        0       0   \n",
       "2      384.0        0.0         1        0      0       0        0       0   \n",
       "3      496.0        0.0         0        0      0       0        0       0   \n",
       "4      464.0        0.0         0        0      0       0        0       0   \n",
       "\n",
       "   IsPolit  IsPhil  IsHist  HasStories  IsAntho  IsColl  IsPlay  IsPoem  \\\n",
       "0        0       0       0           0        0       0       0       0   \n",
       "1        0       0       0           0        0       0       0       0   \n",
       "2        0       0       0           0        0       0       0       0   \n",
       "3        1       0       0           0        0       0       0       0   \n",
       "4        0       0       0           0        0       1       0       0   \n",
       "\n",
       "   HasParts  tot_rvws  decade  year  month  week  pop_idx  lit_idx  gpc_idx  \n",
       "0         0       365    1900     0      0     0      100       21      100  \n",
       "1         0       122    1910     1      0     0      109       26      100  \n",
       "2         0        94    1910     2      0     0      109       26      100  \n",
       "3         0       215    1910     3      0     0      109       26      100  \n",
       "4         0        23    1920     4      0    52      117       32      101  "
      ]
     },
     "execution_count": 9,
     "metadata": {},
     "output_type": "execute_result"
    }
   ],
   "source": [
    "# Setting rare languages to a seperate category - 'oth'\n",
    "test = df.groupby('langs')['isbn'].count().reset_index()\n",
    "rare_lang = test[test.isbn<10].langs.to_list()\n",
    "df.loc[df.langs.isin(rare_lang), 'langs'] = 'oth'\n",
    "\n",
    "# Label encoding the categorical variables\n",
    "from sklearn.preprocessing import LabelEncoder\n",
    "le = LabelEncoder()\n",
    "df.langs = le.fit_transform(df.langs)\n",
    "df.year = le.fit_transform(df.year)\n",
    "df.month = le.fit_transform(df.month)\n",
    "df.week = le.fit_transform(df.week)\n",
    "df.langs = le.fit_transform(df.langs)\n",
    "df.auth_cat =le.fit_transform(df.auth_cat)\n",
    "df.first_pub_lang = le.fit_transform(df.first_pub_lang)\n",
    "df[cols].head()"
   ]
  },
  {
   "cell_type": "code",
   "execution_count": 10,
   "id": "e130d512",
   "metadata": {},
   "outputs": [],
   "source": [
    "# Splitting Dataset in two parts for training & testing\n",
    "from sklearn.model_selection import train_test_split\n",
    "\n",
    "y = df.loc[(df.ratings_count>20) , cols].average_rating\n",
    "X = df.loc[(df.ratings_count>20) , cols].drop(['average_rating'], axis=1)\n",
    "\n",
    "x_train, x_test, y_train, y_test = train_test_split(X, y, test_size=0.15, random_state=1111)"
   ]
  },
  {
   "cell_type": "code",
   "execution_count": 11,
   "id": "d5b69efc",
   "metadata": {},
   "outputs": [
    {
     "data": {
      "text/plain": [
       "((8485, 49), (8485,), (1498, 49), (1498,))"
      ]
     },
     "execution_count": 11,
     "metadata": {},
     "output_type": "execute_result"
    }
   ],
   "source": [
    "x_train.shape, y_train.shape, x_test.shape, y_test.shape"
   ]
  },
  {
   "cell_type": "code",
   "execution_count": 436,
   "id": "41616961",
   "metadata": {
    "scrolled": true
   },
   "outputs": [
    {
     "name": "stderr",
     "output_type": "stream",
     "text": [
      "  2%|█▉                                                                                 | 1/42 [00:00<00:26,  1.56it/s]"
     ]
    },
    {
     "name": "stdout",
     "output_type": "stream",
     "text": [
      "{'Model': 'AdaBoostRegressor', 'R-Squared': 0.0017237907056883994, 'Adjusted R-Squared': -0.03649219863237585, 'RMSE': 0.3359847173105116, 'Time taken': 0.6417226791381836}\n"
     ]
    },
    {
     "name": "stderr",
     "output_type": "stream",
     "text": [
      "  7%|█████▉                                                                             | 3/42 [00:02<00:34,  1.12it/s]"
     ]
    },
    {
     "name": "stdout",
     "output_type": "stream",
     "text": [
      "{'Model': 'BaggingRegressor', 'R-Squared': 0.015423477738634395, 'Adjusted R-Squared': -0.022268060461847483, 'RMSE': 0.33367133626804124, 'Time taken': 2.1500608921051025}\n",
      "{'Model': 'BayesianRidge', 'R-Squared': 0.03932106352416431, 'Adjusted R-Squared': 0.002544372211830681, 'RMSE': 0.3295970356813854, 'Time taken': 0.12642288208007812}\n"
     ]
    },
    {
     "name": "stderr",
     "output_type": "stream",
     "text": [
      " 14%|███████████▊                                                                       | 6/42 [00:03<00:12,  2.86it/s]"
     ]
    },
    {
     "name": "stdout",
     "output_type": "stream",
     "text": [
      "{'Model': 'DecisionTreeRegressor', 'R-Squared': -0.6740271393570125, 'Adjusted R-Squared': -0.7381122119187657, 'RMSE': 0.4350863016083817, 'Time taken': 0.2970242500305176}\n",
      "{'Model': 'DummyRegressor', 'R-Squared': -0.00022044058585501958, 'Adjusted R-Squared': -0.03851085894628459, 'RMSE': 0.33631173815271664, 'Time taken': 0.06766939163208008}\n",
      "{'Model': 'ElasticNet', 'R-Squared': -0.00022044058585501958, 'Adjusted R-Squared': -0.03851085894628459, 'RMSE': 0.33631173815271664, 'Time taken': 0.06734132766723633}\n"
     ]
    },
    {
     "name": "stderr",
     "output_type": "stream",
     "text": [
      " 19%|███████████████▊                                                                   | 8/42 [00:07<00:31,  1.08it/s]"
     ]
    },
    {
     "name": "stdout",
     "output_type": "stream",
     "text": [
      "{'Model': 'ElasticNetCV', 'R-Squared': 0.040347948301816094, 'Adjusted R-Squared': 0.003610568171446671, 'RMSE': 0.32942083286271656, 'Time taken': 3.55460524559021}\n",
      "{'Model': 'ExtraTreeRegressor', 'R-Squared': -0.5321109286649972, 'Adjusted R-Squared': -0.5907631677642176, 'RMSE': 0.41623564408950126, 'Time taken': 0.15739846229553223}\n"
     ]
    },
    {
     "name": "stderr",
     "output_type": "stream",
     "text": [
      " 21%|█████████████████▊                                                                 | 9/42 [00:14<01:27,  2.66s/it]"
     ]
    },
    {
     "name": "stdout",
     "output_type": "stream",
     "text": [
      "{'Model': 'ExtraTreesRegressor', 'R-Squared': 0.029074062462610017, 'Adjusted R-Squared': -0.008094904333872721, 'RMSE': 0.3313501826602284, 'Time taken': 6.951392650604248}\n",
      "GammaRegressor model failed to execute\n",
      "Some value(s) of y are out of the valid range of the loss 'HalfGammaLoss'.\n"
     ]
    },
    {
     "name": "stderr",
     "output_type": "stream",
     "text": [
      " 26%|█████████████████████▍                                                            | 11/42 [00:37<03:27,  6.69s/it]"
     ]
    },
    {
     "name": "stdout",
     "output_type": "stream",
     "text": [
      "{'Model': 'GaussianProcessRegressor', 'R-Squared': -43743.48395705982, 'Adjusted R-Squared': -45418.109393324485, 'RMSE': 70.33246060355178, 'Time taken': 23.129253387451172}\n"
     ]
    },
    {
     "name": "stderr",
     "output_type": "stream",
     "text": [
      " 29%|███████████████████████▍                                                          | 12/42 [00:41<03:01,  6.06s/it]"
     ]
    },
    {
     "name": "stdout",
     "output_type": "stream",
     "text": [
      "{'Model': 'GradientBoostingRegressor', 'R-Squared': 0.17824577506612016, 'Adjusted R-Squared': 0.14678739670730678, 'RMSE': 0.3048352148039256, 'Time taken': 4.072833776473999}\n"
     ]
    },
    {
     "name": "stderr",
     "output_type": "stream",
     "text": [
      " 31%|█████████████████████████▍                                                        | 13/42 [00:43<02:26,  5.07s/it]"
     ]
    },
    {
     "name": "stdout",
     "output_type": "stream",
     "text": [
      "{'Model': 'HistGradientBoostingRegressor', 'R-Squared': 0.1878716214859285, 'Adjusted R-Squared': 0.15678173958202846, 'RMSE': 0.3030445695618681, 'Time taken': 2.1660385131835938}\n"
     ]
    },
    {
     "name": "stderr",
     "output_type": "stream",
     "text": [
      " 33%|███████████████████████████▎                                                      | 14/42 [00:44<01:53,  4.06s/it]"
     ]
    },
    {
     "name": "stdout",
     "output_type": "stream",
     "text": [
      "{'Model': 'HuberRegressor', 'R-Squared': 0.037117820772266, 'Adjusted R-Squared': 0.0002567849661622157, 'RMSE': 0.32997477186795665, 'Time taken': 1.325052261352539}\n"
     ]
    },
    {
     "name": "stderr",
     "output_type": "stream",
     "text": [
      " 36%|█████████████████████████████▎                                                    | 15/42 [00:45<01:21,  3.00s/it]"
     ]
    },
    {
     "name": "stdout",
     "output_type": "stream",
     "text": [
      "{'Model': 'KNeighborsRegressor', 'R-Squared': -0.06720106910401658, 'Adjusted R-Squared': -0.10805563850949262, 'RMSE': 0.34738998077396877, 'Time taken': 0.23618483543395996}\n"
     ]
    },
    {
     "name": "stderr",
     "output_type": "stream",
     "text": [
      " 38%|███████████████████████████████▏                                                  | 16/42 [00:53<01:58,  4.57s/it]"
     ]
    },
    {
     "name": "stdout",
     "output_type": "stream",
     "text": [
      "{'Model': 'KernelRidge', 'R-Squared': -138.59046977143927, 'Adjusted R-Squared': -143.9342692678249, 'RMSE': 3.9730318553755346, 'Time taken': 8.517755270004272}\n",
      "{'Model': 'Lars', 'R-Squared': -0.07703567596911043, 'Adjusted R-Squared': -0.11826673359257778, 'RMSE': 0.3489869661666474, 'Time taken': 0.07863569259643555}\n"
     ]
    },
    {
     "name": "stderr",
     "output_type": "stream",
     "text": [
      " 43%|███████████████████████████████████▏                                              | 18/42 [00:54<01:02,  2.61s/it]"
     ]
    },
    {
     "name": "stdout",
     "output_type": "stream",
     "text": [
      "{'Model': 'LarsCV', 'R-Squared': 0.041942317451643785, 'Adjusted R-Squared': 0.0052659729283173196, 'RMSE': 0.32914706866682236, 'Time taken': 0.3004176616668701}\n",
      "{'Model': 'Lasso', 'R-Squared': -0.00022044058585501958, 'Adjusted R-Squared': -0.03851085894628459, 'RMSE': 0.33631173815271664, 'Time taken': 0.07665443420410156}\n"
     ]
    },
    {
     "name": "stderr",
     "output_type": "stream",
     "text": [
      " 48%|███████████████████████████████████████                                           | 20/42 [00:57<00:50,  2.31s/it]"
     ]
    },
    {
     "name": "stdout",
     "output_type": "stream",
     "text": [
      "{'Model': 'LassoCV', 'R-Squared': 0.04042886946067448, 'Adjusted R-Squared': 0.0036945871524461937, 'RMSE': 0.32940694362156986, 'Time taken': 3.6305787563323975}\n",
      "{'Model': 'LassoLars', 'R-Squared': -0.00022044058585501958, 'Adjusted R-Squared': -0.03851085894628459, 'RMSE': 0.33631173815271664, 'Time taken': 0.06252098083496094}\n"
     ]
    },
    {
     "name": "stderr",
     "output_type": "stream",
     "text": [
      " 57%|██████████████████████████████████████████████▊                                   | 24/42 [00:58<00:18,  1.05s/it]"
     ]
    },
    {
     "name": "stdout",
     "output_type": "stream",
     "text": [
      "{'Model': 'LassoLarsCV', 'R-Squared': 0.04034242581629521, 'Adjusted R-Squared': 0.003604834274248514, 'RMSE': 0.3294217807162429, 'Time taken': 0.2521488666534424}\n",
      "{'Model': 'LassoLarsIC', 'R-Squared': 0.03690603954630545, 'Adjusted R-Squared': 3.689633565973072e-05, 'RMSE': 0.3300110580414241, 'Time taken': 0.09464597702026367}\n",
      "{'Model': 'LinearRegression', 'R-Squared': -0.009380694399243161, 'Adjusted R-Squared': -0.04802178540799118, 'RMSE': 0.3378482392210838, 'Time taken': 0.07856321334838867}\n"
     ]
    },
    {
     "name": "stderr",
     "output_type": "stream",
     "text": [
      " 60%|████████████████████████████████████████████████▊                                 | 25/42 [00:59<00:17,  1.03s/it]"
     ]
    },
    {
     "name": "stdout",
     "output_type": "stream",
     "text": [
      "{'Model': 'LinearSVR', 'R-Squared': 0.021551567730883514, 'Adjusted R-Squared': -0.0159053750543956, 'RMSE': 0.33263131572421245, 'Time taken': 0.9577522277832031}\n"
     ]
    },
    {
     "name": "stderr",
     "output_type": "stream",
     "text": [
      " 62%|██████████████████████████████████████████████████▊                               | 26/42 [02:02<03:53, 14.56s/it]"
     ]
    },
    {
     "name": "stdout",
     "output_type": "stream",
     "text": [
      "{'Model': 'MLPRegressor', 'R-Squared': -0.8280189015795183, 'Adjusted R-Squared': -0.897999083619444, 'RMSE': 0.4546576509776411, 'Time taken': 63.222530126571655}\n"
     ]
    },
    {
     "name": "stderr",
     "output_type": "stream",
     "text": [
      " 67%|██████████████████████████████████████████████████████▋                           | 28/42 [02:11<02:19,  9.98s/it]"
     ]
    },
    {
     "name": "stdout",
     "output_type": "stream",
     "text": [
      "{'Model': 'NuSVR', 'R-Squared': 0.06613017738864135, 'Adjusted R-Squared': 0.0303797920225668, 'RMSE': 0.32496555771815333, 'Time taken': 9.347251892089844}\n",
      "{'Model': 'OrthogonalMatchingPursuit', 'R-Squared': 0.041258059602941155, 'Adjusted R-Squared': 0.004555520334706298, 'RMSE': 0.3292645883472702, 'Time taken': 0.09341764450073242}\n"
     ]
    },
    {
     "name": "stderr",
     "output_type": "stream",
     "text": [
      " 69%|████████████████████████████████████████████████████████▌                         | 29/42 [02:12<01:36,  7.39s/it]"
     ]
    },
    {
     "name": "stdout",
     "output_type": "stream",
     "text": [
      "{'Model': 'OrthogonalMatchingPursuitCV', 'R-Squared': 0.04642257236632141, 'Adjusted R-Squared': 0.009917740869607172, 'RMSE': 0.32837655616648026, 'Time taken': 0.22086405754089355}\n",
      "{'Model': 'PassiveAggressiveRegressor', 'R-Squared': -2.008963175417136, 'Adjusted R-Squared': -2.124152241889688, 'RMSE': 0.5833142675517775, 'Time taken': 0.07692289352416992}\n"
     ]
    },
    {
     "name": "stderr",
     "output_type": "stream",
     "text": [
      " 74%|████████████████████████████████████████████████████████████▌                     | 31/42 [02:12<00:46,  4.25s/it]"
     ]
    },
    {
     "name": "stdout",
     "output_type": "stream",
     "text": [
      "{'Model': 'PoissonRegressor', 'R-Squared': 0.038747256526854734, 'Adjusted R-Squared': 0.0019485987468369492, 'RMSE': 0.32969545402170475, 'Time taken': 0.14174818992614746}\n"
     ]
    },
    {
     "name": "stderr",
     "output_type": "stream",
     "text": [
      " 76%|██████████████████████████████████████████████████████████████▍                   | 32/42 [02:21<00:53,  5.31s/it]"
     ]
    },
    {
     "name": "stdout",
     "output_type": "stream",
     "text": [
      "QuantileRegressor model failed to execute\n",
      "Unable to allocate 1.50 GiB for an array with shape (10014, 20112) and data type float64\n"
     ]
    },
    {
     "name": "stderr",
     "output_type": "stream",
     "text": [
      " 79%|████████████████████████████████████████████████████████████████▍                 | 33/42 [02:21<00:37,  4.16s/it]"
     ]
    },
    {
     "name": "stdout",
     "output_type": "stream",
     "text": [
      "{'Model': 'RANSACRegressor', 'R-Squared': -1.782939311198617, 'Adjusted R-Squared': -1.8894757367440356, 'RMSE': 0.5609782593990531, 'Time taken': 0.7407252788543701}\n"
     ]
    },
    {
     "name": "stderr",
     "output_type": "stream",
     "text": [
      " 81%|██████████████████████████████████████████████████████████████████▍               | 34/42 [02:43<01:10,  8.79s/it]"
     ]
    },
    {
     "name": "stdout",
     "output_type": "stream",
     "text": [
      "{'Model': 'RandomForestRegressor', 'R-Squared': 0.16888580442464207, 'Adjusted R-Squared': 0.13706910786199988, 'RMSE': 0.30656637098727163, 'Time taken': 21.651886224746704}\n",
      "{'Model': 'Ridge', 'R-Squared': 0.025675366333080207, 'Adjusted R-Squared': -0.011623709278818728, 'RMSE': 0.3319296165491357, 'Time taken': 0.09431815147399902}\n"
     ]
    },
    {
     "name": "stderr",
     "output_type": "stream",
     "text": [
      " 86%|██████████████████████████████████████████████████████████████████████▎           | 36/42 [02:43<00:30,  5.05s/it]"
     ]
    },
    {
     "name": "stdout",
     "output_type": "stream",
     "text": [
      "{'Model': 'RidgeCV', 'R-Squared': 0.02753716613695112, 'Adjusted R-Squared': -0.009690636093100391, 'RMSE': 0.3316123290775187, 'Time taken': 0.12549376487731934}\n",
      "{'Model': 'SGDRegressor', 'R-Squared': 0.016698862289047822, 'Adjusted R-Squared': -0.02094385166627344, 'RMSE': 0.33345515339124565, 'Time taken': 0.07864713668823242}\n"
     ]
    },
    {
     "name": "stderr",
     "output_type": "stream",
     "text": [
      " 95%|██████████████████████████████████████████████████████████████████████████████    | 40/42 [02:50<00:05,  2.92s/it]"
     ]
    },
    {
     "name": "stdout",
     "output_type": "stream",
     "text": [
      "{'Model': 'SVR', 'R-Squared': 0.060384608224077874, 'Adjusted R-Squared': 0.02441427109726846, 'RMSE': 0.3259636888409342, 'Time taken': 6.937775373458862}\n",
      "{'Model': 'TransformedTargetRegressor', 'R-Squared': -0.009380694399243161, 'Adjusted R-Squared': -0.04802178540799118, 'RMSE': 0.3378482392210838, 'Time taken': 0.09430766105651855}\n",
      "{'Model': 'TweedieRegressor', 'R-Squared': 0.03210422315890926, 'Adjusted R-Squared': -0.00494874308804194, 'RMSE': 0.33083272356983573, 'Time taken': 0.07865333557128906}\n"
     ]
    },
    {
     "name": "stderr",
     "output_type": "stream",
     "text": [
      " 98%|████████████████████████████████████████████████████████████████████████████████  | 41/42 [02:52<00:02,  2.59s/it]"
     ]
    },
    {
     "name": "stdout",
     "output_type": "stream",
     "text": [
      "{'Model': 'XGBRegressor', 'R-Squared': 0.14341639558150798, 'Adjusted R-Squared': 0.11062467963271405, 'RMSE': 0.31122827204853537, 'Time taken': 1.271317958831787}\n",
      "[LightGBM] [Info] Auto-choosing col-wise multi-threading, the overhead of testing was 0.010518 seconds.\n",
      "You can set `force_col_wise=true` to remove the overhead.\n",
      "[LightGBM] [Info] Total Bins 3270\n",
      "[LightGBM] [Info] Number of data points in the train set: 10014, number of used features: 41\n",
      "[LightGBM] [Info] Start training from score 3.934130\n"
     ]
    },
    {
     "name": "stderr",
     "output_type": "stream",
     "text": [
      "100%|██████████████████████████████████████████████████████████████████████████████████| 42/42 [02:52<00:00,  4.12s/it]"
     ]
    },
    {
     "name": "stdout",
     "output_type": "stream",
     "text": [
      "{'Model': 'LGBMRegressor', 'R-Squared': 0.22367788242691033, 'Adjusted R-Squared': 0.19395873506883676, 'RMSE': 0.29628873688623586, 'Time taken': 0.7072165012359619}\n"
     ]
    },
    {
     "name": "stderr",
     "output_type": "stream",
     "text": [
      "\n"
     ]
    }
   ],
   "source": [
    "# Trying out eligible algorithms for creating a model\n",
    "\n",
    "from lazypredict.Supervised import LazyRegressor\n",
    "from sklearn.utils import shuffle\n",
    "\n",
    "lx = df[cols].drop('average_rating', axis=1)\n",
    "ly = df[cols].average_rating\n",
    "offset = int(lx.shape[0] * 0.9)\n",
    "lx_train, ly_train = lx[:offset], ly[:offset]\n",
    "lx_test, ly_test = lx[offset:], ly[offset:]\n",
    "reg = LazyRegressor(verbose=1,ignore_warnings=False, custom_metric=None )\n",
    "models,prediction = reg.fit(lx_train, lx_test, ly_train, ly_test)"
   ]
  },
  {
   "cell_type": "code",
   "execution_count": 437,
   "id": "bae7c428",
   "metadata": {},
   "outputs": [
    {
     "name": "stdout",
     "output_type": "stream",
     "text": [
      "                               Adjusted R-Squared  R-Squared  RMSE  Time Taken\n",
      "Model                                                                         \n",
      "LGBMRegressor                                0.19       0.22  0.30        0.71\n",
      "HistGradientBoostingRegressor                0.16       0.19  0.30        2.17\n",
      "GradientBoostingRegressor                    0.15       0.18  0.30        4.07\n",
      "RandomForestRegressor                        0.14       0.17  0.31       21.65\n",
      "XGBRegressor                                 0.11       0.14  0.31        1.27\n",
      "NuSVR                                        0.03       0.07  0.32        9.35\n",
      "SVR                                          0.02       0.06  0.33        6.94\n",
      "OrthogonalMatchingPursuitCV                  0.01       0.05  0.33        0.22\n",
      "LarsCV                                       0.01       0.04  0.33        0.30\n",
      "OrthogonalMatchingPursuit                    0.00       0.04  0.33        0.09\n"
     ]
    }
   ],
   "source": [
    "print(models[:10])"
   ]
  },
  {
   "cell_type": "code",
   "execution_count": 12,
   "id": "e87e98d5",
   "metadata": {},
   "outputs": [
    {
     "data": {
      "text/html": [
       "<style>#sk-container-id-1 {color: black;background-color: white;}#sk-container-id-1 pre{padding: 0;}#sk-container-id-1 div.sk-toggleable {background-color: white;}#sk-container-id-1 label.sk-toggleable__label {cursor: pointer;display: block;width: 100%;margin-bottom: 0;padding: 0.3em;box-sizing: border-box;text-align: center;}#sk-container-id-1 label.sk-toggleable__label-arrow:before {content: \"▸\";float: left;margin-right: 0.25em;color: #696969;}#sk-container-id-1 label.sk-toggleable__label-arrow:hover:before {color: black;}#sk-container-id-1 div.sk-estimator:hover label.sk-toggleable__label-arrow:before {color: black;}#sk-container-id-1 div.sk-toggleable__content {max-height: 0;max-width: 0;overflow: hidden;text-align: left;background-color: #f0f8ff;}#sk-container-id-1 div.sk-toggleable__content pre {margin: 0.2em;color: black;border-radius: 0.25em;background-color: #f0f8ff;}#sk-container-id-1 input.sk-toggleable__control:checked~div.sk-toggleable__content {max-height: 200px;max-width: 100%;overflow: auto;}#sk-container-id-1 input.sk-toggleable__control:checked~label.sk-toggleable__label-arrow:before {content: \"▾\";}#sk-container-id-1 div.sk-estimator input.sk-toggleable__control:checked~label.sk-toggleable__label {background-color: #d4ebff;}#sk-container-id-1 div.sk-label input.sk-toggleable__control:checked~label.sk-toggleable__label {background-color: #d4ebff;}#sk-container-id-1 input.sk-hidden--visually {border: 0;clip: rect(1px 1px 1px 1px);clip: rect(1px, 1px, 1px, 1px);height: 1px;margin: -1px;overflow: hidden;padding: 0;position: absolute;width: 1px;}#sk-container-id-1 div.sk-estimator {font-family: monospace;background-color: #f0f8ff;border: 1px dotted black;border-radius: 0.25em;box-sizing: border-box;margin-bottom: 0.5em;}#sk-container-id-1 div.sk-estimator:hover {background-color: #d4ebff;}#sk-container-id-1 div.sk-parallel-item::after {content: \"\";width: 100%;border-bottom: 1px solid gray;flex-grow: 1;}#sk-container-id-1 div.sk-label:hover label.sk-toggleable__label {background-color: #d4ebff;}#sk-container-id-1 div.sk-serial::before {content: \"\";position: absolute;border-left: 1px solid gray;box-sizing: border-box;top: 0;bottom: 0;left: 50%;z-index: 0;}#sk-container-id-1 div.sk-serial {display: flex;flex-direction: column;align-items: center;background-color: white;padding-right: 0.2em;padding-left: 0.2em;position: relative;}#sk-container-id-1 div.sk-item {position: relative;z-index: 1;}#sk-container-id-1 div.sk-parallel {display: flex;align-items: stretch;justify-content: center;background-color: white;position: relative;}#sk-container-id-1 div.sk-item::before, #sk-container-id-1 div.sk-parallel-item::before {content: \"\";position: absolute;border-left: 1px solid gray;box-sizing: border-box;top: 0;bottom: 0;left: 50%;z-index: -1;}#sk-container-id-1 div.sk-parallel-item {display: flex;flex-direction: column;z-index: 1;position: relative;background-color: white;}#sk-container-id-1 div.sk-parallel-item:first-child::after {align-self: flex-end;width: 50%;}#sk-container-id-1 div.sk-parallel-item:last-child::after {align-self: flex-start;width: 50%;}#sk-container-id-1 div.sk-parallel-item:only-child::after {width: 0;}#sk-container-id-1 div.sk-dashed-wrapped {border: 1px dashed gray;margin: 0 0.4em 0.5em 0.4em;box-sizing: border-box;padding-bottom: 0.4em;background-color: white;}#sk-container-id-1 div.sk-label label {font-family: monospace;font-weight: bold;display: inline-block;line-height: 1.2em;}#sk-container-id-1 div.sk-label-container {text-align: center;}#sk-container-id-1 div.sk-container {/* jupyter's `normalize.less` sets `[hidden] { display: none; }` but bootstrap.min.css set `[hidden] { display: none !important; }` so we also need the `!important` here to be able to override the default hidden behavior on the sphinx rendered scikit-learn.org. See: https://github.com/scikit-learn/scikit-learn/issues/21755 */display: inline-block !important;position: relative;}#sk-container-id-1 div.sk-text-repr-fallback {display: none;}</style><div id=\"sk-container-id-1\" class=\"sk-top-container\"><div class=\"sk-text-repr-fallback\"><pre>RandomForestRegressor(max_depth=15, max_features=0.35, n_estimators=700,\n",
       "                      oob_score=True, random_state=1111)</pre><b>In a Jupyter environment, please rerun this cell to show the HTML representation or trust the notebook. <br />On GitHub, the HTML representation is unable to render, please try loading this page with nbviewer.org.</b></div><div class=\"sk-container\" hidden><div class=\"sk-item\"><div class=\"sk-estimator sk-toggleable\"><input class=\"sk-toggleable__control sk-hidden--visually\" id=\"sk-estimator-id-1\" type=\"checkbox\" checked><label for=\"sk-estimator-id-1\" class=\"sk-toggleable__label sk-toggleable__label-arrow\">RandomForestRegressor</label><div class=\"sk-toggleable__content\"><pre>RandomForestRegressor(max_depth=15, max_features=0.35, n_estimators=700,\n",
       "                      oob_score=True, random_state=1111)</pre></div></div></div></div></div>"
      ],
      "text/plain": [
       "RandomForestRegressor(max_depth=15, max_features=0.35, n_estimators=700,\n",
       "                      oob_score=True, random_state=1111)"
      ]
     },
     "execution_count": 12,
     "metadata": {},
     "output_type": "execute_result"
    }
   ],
   "source": [
    "from sklearn.ensemble import RandomForestRegressor\n",
    " \n",
    "# Fitting Random Forest Regression to the dataset\n",
    "regressor = RandomForestRegressor(n_estimators=700, max_depth=15, max_features= 0.35, random_state=1111, oob_score=True)\n",
    " \n",
    "# Fit the regressor with x and y data\n",
    "regressor.fit(x_train, y_train)"
   ]
  },
  {
   "cell_type": "code",
   "execution_count": 14,
   "id": "ef97e4a4",
   "metadata": {},
   "outputs": [
    {
     "name": "stdout",
     "output_type": "stream",
     "text": [
      "Out-of-Bag Score: 0.17466503799179134\n",
      "Mean Squared Error: 0.0610299055059773\n",
      "R-squared: 0.1807281443056985\n"
     ]
    }
   ],
   "source": [
    "#Performance metrics for Regression model\n",
    "from sklearn.metrics import mean_squared_error, r2_score\n",
    " \n",
    "# Access the OOB Score\n",
    "oob_score = regressor.oob_score_\n",
    "print(f'Out-of-Bag Score: {oob_score}')\n",
    " \n",
    "# Making predictions on the same data or new data\n",
    "predictions = regressor.predict(x_test)\n",
    " \n",
    "# Evaluating the model\n",
    "mse = mean_squared_error(y_test, predictions)\n",
    "print(f'Mean Squared Error: {mse}')\n",
    " \n",
    "r2 = r2_score(y_test, predictions)\n",
    "print(f'R-squared: {r2}')"
   ]
  },
  {
   "cell_type": "code",
   "execution_count": 67,
   "id": "863a1ffd",
   "metadata": {},
   "outputs": [
    {
     "data": {
      "text/plain": [
       "<seaborn.axisgrid.JointGrid at 0x230925dff90>"
      ]
     },
     "execution_count": 67,
     "metadata": {},
     "output_type": "execute_result"
    },
    {
     "data": {
      "image/png": "[encoded data removed]",
      "text/plain": [
       "<Figure size 600x600 with 3 Axes>"
      ]
     },
     "metadata": {},
     "output_type": "display_data"
    }
   ],
   "source": [
    "test= pd.DataFrame(columns=['y_test', 'predictions'])\n",
    "\n",
    "test['y_test'] = y_test\n",
    "test['predictions'] = predictions\n",
    "\n",
    "sns.jointplot(test, x = y_test, y = predictions, label='predicted_rating')"
   ]
  },
  {
   "cell_type": "code",
   "execution_count": 105,
   "id": "423b7e8e",
   "metadata": {},
   "outputs": [
    {
     "data": {
      "text/plain": [
       "0.1850438464102269"
      ]
     },
     "execution_count": 105,
     "metadata": {},
     "output_type": "execute_result"
    }
   ],
   "source": [
    "# Checking LightGBM model performance with cross validation\n",
    "from sklearn.model_selection import StratifiedKFold, cross_val_score\n",
    "\n",
    "model = lgb.LGBMRegressor(verbose=0)\n",
    "\n",
    "# Mean CV score is less than 0.2\n",
    "scores = cross_val_score(model, x_train, y_train, scoring='r2', cv=10)\n",
    "\n",
    "np.mean(scores) "
   ]
  },
  {
   "cell_type": "code",
   "execution_count": 100,
   "id": "1637ae24",
   "metadata": {},
   "outputs": [
    {
     "name": "stdout",
     "output_type": "stream",
     "text": [
      "[LightGBM] [Warning] feature_fraction is set=0.4, colsample_bytree=1.0 will be ignored. Current value: feature_fraction=0.4\n",
      "[LightGBM] [Warning] Accuracy may be bad since you didn't explicitly set num_leaves OR 2^max_depth > num_leaves. (num_leaves=31).\n",
      "[LightGBM] [Warning] feature_fraction is set=0.4, colsample_bytree=1.0 will be ignored. Current value: feature_fraction=0.4\n",
      "[LightGBM] [Warning] Accuracy may be bad since you didn't explicitly set num_leaves OR 2^max_depth > num_leaves. (num_leaves=31).\n",
      "[LightGBM] [Info] Auto-choosing col-wise multi-threading, the overhead of testing was 0.003792 seconds.\n",
      "You can set `force_col_wise=true` to remove the overhead.\n",
      "[LightGBM] [Info] Total Bins 3538\n",
      "[LightGBM] [Info] Number of data points in the train set: 8485, number of used features: 49\n",
      "[LightGBM] [Info] Start training from score 3.947118\n",
      "LGBMRegressor(feature_fraction=0.4, learning_rate=0.12, max_depth=15,\n",
      "              min_child_samples=15)\n"
     ]
    }
   ],
   "source": [
    "# Using the Grid Search CV to estimate best hyperparameters\n",
    "from sklearn.model_selection import GridSearchCV\n",
    "param_grid = {'learning_rate': [0.07, 0.1, 0.12],\n",
    "              'max_depth': [7, 12, 15],\n",
    "              'feature_fraction': [0.3, 0.4],\n",
    "             'min_child_samples': [15,20]}\n",
    "\n",
    "# feature_fraction=0.4, learning_rate=0.12, max_depth=12, min_child_samples=20, n_estimators=200,\n",
    "\n",
    "# Initialize LGBMRegressor estimator\n",
    "\n",
    "estimator = lgb.LGBMRegressor()\n",
    "\n",
    "# Initalise Grid Search with 3-fold cross validation and fit model\n",
    "model = GridSearchCV(estimator=estimator, param_grid=param_grid,  cv=5, n_jobs=-1, scoring='r2' )\n",
    "\n",
    "model.fit(x_train, y_train)\n",
    "\n",
    "# Print best parameters\n",
    "\n",
    "best_params = model.best_estimator_\n",
    "print(best_params)"
   ]
  },
  {
   "cell_type": "code",
   "execution_count": 102,
   "id": "2ba77814",
   "metadata": {},
   "outputs": [
    {
     "name": "stdout",
     "output_type": "stream",
     "text": [
      "[LightGBM] [Info] Auto-choosing col-wise multi-threading, the overhead of testing was 0.004493 seconds.\n",
      "You can set `force_col_wise=true` to remove the overhead.\n",
      "[LightGBM] [Info] Total Bins 3538\n",
      "[LightGBM] [Info] Number of data points in the train set: 8485, number of used features: 49\n",
      "[LightGBM] [Info] Start training from score 3.947118\n",
      "0.21676135268832009\n"
     ]
    }
   ],
   "source": [
    "# Fitting LightGBM Model & checking the performance\n",
    "\n",
    "import lightgbm as lgb\n",
    "from lightgbm import LGBMRegressor\n",
    " \n",
    "# Fitting the Best Model\n",
    "model = LGBMRegressor(feature_fraction=0.4, learning_rate=0.12, max_depth=15,  min_child_samples=15)\n",
    "\n",
    "model.fit(x_train, y_train)\n",
    " \n",
    "# Predicting the Target variable\n",
    "pred = model.predict(x_test)\n",
    "\n",
    "# print(pred)\n",
    "accuracy = model.score(x_test, y_test)\n",
    "\n",
    "print(accuracy)"
   ]
  },
  {
   "cell_type": "code",
   "execution_count": 409,
   "id": "058cc2b6",
   "metadata": {},
   "outputs": [],
   "source": [
    "# !pip install shap\n",
    "import shap\n",
    "\n",
    "explainer = shap.Explainer(model, x_test)\n",
    "shap_values = explainer(x_test)"
   ]
  },
  {
   "cell_type": "code",
   "execution_count": 516,
   "id": "46d7f863",
   "metadata": {},
   "outputs": [
    {
     "data": {
      "image/png": "[encoded data removed]",
      "text/plain": [
       "<Figure size 800x750 with 1 Axes>"
      ]
     },
     "metadata": {},
     "output_type": "display_data"
    }
   ],
   "source": [
    "shap.plots.bar(shap_values, max_display=12)"
   ]
  }
 ],
 "metadata": {
  "kernelspec": {
   "display_name": "Python 3 (ipykernel)",
   "language": "python",
   "name": "python3"
  },
  "language_info": {
   "codemirror_mode": {
    "name": "ipython",
    "version": 3
   },
   "file_extension": ".py",
   "mimetype": "text/x-python",
   "name": "python",
   "nbconvert_exporter": "python",
   "pygments_lexer": "ipython3",
   "version": "3.11.5"
  }
 },
 "nbformat": 4,
 "nbformat_minor": 5
}
