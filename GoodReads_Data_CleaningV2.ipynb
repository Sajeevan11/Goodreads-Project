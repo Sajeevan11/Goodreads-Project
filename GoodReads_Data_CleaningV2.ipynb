{
 "cells": [
  {
   "cell_type": "code",
   "execution_count": null,
   "id": "ec3bef95-33c4-42dc-8f00-19b0c7d375bd",
   "metadata": {},
   "outputs": [],
   "source": [
    "#Suppress warnings thrown by different packages\n",
    "import warnings\n",
    "warnings.filterwarnings(\"ignore\")\n",
    "\n",
    "import numpy as np\n",
    "import pandas as pd\n",
    "import datetime as dt\n",
    "\n",
    "# Set Pandas Options to Display all rows & columns when displayed\n",
    "pd.set_option('display.max_columns', None)\n",
    "pd.set_option('display.max_rows', None)\n",
    "\n",
    "# Set float places & displayed decimal digits\n",
    "pd.options.display.float_format = '{:13,.2f}'.format\n",
    "\n",
    "import matplotlib.pyplot as plt\n",
    "import seaborn as sns\n",
    "import plotly as pty\n",
    "import re"
   ]
  },
  {
   "cell_type": "code",
   "execution_count": null,
   "id": "5ae3783b-928b-47e1-979d-37590c02c4d3",
   "metadata": {},
   "outputs": [],
   "source": [
    "# Read the Dataset\n",
    "df = pd.read_csv(r\"C:\\Users\\Ashis\\Desktop\\ML Project\\Project 1\\books.csv\")\n",
    "print('Dataframe Shape :', df.shape,'\\n')\n",
    "\n",
    "# No null values. But there's clearly a problem with 1 of the column names.\n",
    "print(df.isna().sum())\n",
    "\n",
    "# Delete the whitespace in column names\n",
    "df.columns = df.columns.str.strip()\n",
    "print('Dataframe columns :', df.columns,'\\n')"
   ]
  },
  {
   "cell_type": "code",
   "execution_count": null,
   "id": "895b4aff-7235-4e48-a8ee-9e9eedd7e358",
   "metadata": {},
   "outputs": [],
   "source": [
    "# checking for duplicates. No duplicates found\n",
    "df[df.duplicated(keep=False)]"
   ]
  },
  {
   "cell_type": "code",
   "execution_count": null,
   "id": "e4267409-bb30-4145-8170-149a190e2e15",
   "metadata": {},
   "outputs": [],
   "source": [
    "# Replace unwanted characters & whitespaces in author names\n",
    "df.authors = [re.sub(r\"\\s+\", \" \", s) for s in df.authors]\n",
    "df.title  = [re.sub(r\"\\s+\", \" \", s) for s in df.title]\n",
    "df.publisher  = [re.sub(r\"\\s+\", \" \", s) for s in df.publisher]\n",
    "df.authors = df.authors.str.replace('-', ' ')\n",
    "df.publisher = df.publisher.str.replace('!', ' ')\n",
    "df.title = df.title.str.replace('-', ' ')\n",
    "df.title = df.title.str.replace('!', ' ')\n",
    "df.title = df.title.str.replace('?', ' ')\n",
    "\n",
    "# Display Dataframe rows\n",
    "df.head()"
   ]
  },
  {
   "cell_type": "code",
   "execution_count": null,
   "id": "ab4c8382-4da2-4634-b81e-340dd8a43784",
   "metadata": {},
   "outputs": [],
   "source": [
    "# Replace hypen in some dates to forward slash to make the representation uniform\n",
    "df.publication_date = df.publication_date.str.replace('-', '/')\n",
    "\n",
    "# Split & reconstitute each date to make the numeral representation uniform\n",
    "df.publication_date =  [str(int(x.split('/')[0])) + '/' +  str(int(x.split('/')[1])) + '/' +  str(int(x.split('/')[2])) for x in df.publication_date]\n",
    "\n",
    "# Conversion to date throws an error. So using Error handling to display the index of the errors & combine the indices in a list\n",
    "err = []\n",
    "\n",
    "for i, d in enumerate(df.publication_date):\n",
    "    try:\n",
    "        pd.to_datetime(d)\n",
    "    except: \n",
    "        err.append(i)\n",
    "\n",
    "# Print the rows with errors. Both dates show 31 days in June & November which is not possible. \n",
    "print('Date Error Rows :', '\\n', df.loc[err,'publication_date'], '\\n')\n",
    "\n",
    "# Manually inputting dates in these rows via Goodreads Website\n",
    "df.loc[8181, 'publication_date'] = '10/31/2000'\n",
    "df.loc[11098, 'publication_date'] = '6/30/1982'\n",
    "\n",
    "# Datetime conversion now runs error free\n",
    "df.publication_date = pd.to_datetime(df.publication_date)\n",
    "\n",
    "# Display all column datatypes\n",
    "df.dtypes"
   ]
  },
  {
   "cell_type": "code",
   "execution_count": null,
   "id": "f1420b99",
   "metadata": {},
   "outputs": [],
   "source": [
    "# Remove the parenthesized parts from authors & title columns; also create a new column 'raw title' to preserve old info\n",
    "df.authors = df.authors.str.replace(r\"\\s*\\(.*\\)\\s*\", \"\", regex=True).str.lower()\n",
    "df['raw_title'] = df.title.str.replace(r\"\\s*\\(.*\\)\\s*\", \"\", regex=True).str.lower()\n",
    "\n",
    "# Removing accents from alphabets (for example, 'á' replaced with 'a')\n",
    "df.title = df.title.str.normalize('NFKD').str.encode('ascii', errors='ignore').str.decode('utf-8')\n",
    "\n",
    "# Removing unwanted whitespaces from columns\n",
    "df.authors = df.authors.str.strip()\n",
    "df.publisher = df.publisher.str.strip()\n",
    "df.title = df.title.str.strip()\n",
    "df.raw_title = df.raw_title.str.strip()"
   ]
  },
  {
   "cell_type": "code",
   "execution_count": null,
   "id": "8d8388ce",
   "metadata": {},
   "outputs": [],
   "source": [
    "# Removing Noise from publisher column & storing it in a new column to preserve old info\n",
    "\n",
    "df['raw_pub'] = df.publisher.str.replace(r\"\\s*\\(.*\\)\\s*\", \"\", regex=True).str.lower()\n",
    "df.raw_pub = df.raw_pub.str.strip()\n",
    "df.raw_pub = df.raw_pub.str.replace(' ltd.', ' ltd').str.replace(' limited', ' ltd').str.replace(' ltd', '')\n",
    "df.raw_pub = df.raw_pub.str.replace('&', 'and')\n",
    "df.raw_pub = df.raw_pub.str.replace(' company', ' co')\n",
    "df.raw_pub = df.raw_pub.str.replace(' co ', ' co.').str.replace(' co.', '').str.replace(' co', '')\n",
    "df.raw_pub = df.raw_pub.str.replace(' inc.', ' inc').str.replace(' inc', '')\n",
    "df.raw_pub = df.raw_pub.str.replace(\"'\", '').str.replace(\"-\", ' ')\n",
    "df.raw_pub = df.raw_pub.str.replace(\". \", '.').str.replace(\".\", '. ')\n",
    "df.raw_pub = df.raw_pub.str.replace(' plc', '').str.replace(' llc', '')\n",
    "df.raw_pub = df.raw_pub.str.replace('books', 'book').str.replace('book','')\n",
    "df.raw_pub = df.raw_pub.str.replace('classics', 'classic').str.replace('classic','classics').str.replace('classics','')\n",
    "df.raw_pub = df.raw_pub.str.replace('publishers', 'publisher').str.replace('publisher','')\n",
    "df.raw_pub = df.raw_pub.str.replace('publishing group', 'publishing').str.replace('publishing', '').str.replace(' group', '')\n",
    "df.raw_pub = df.raw_pub.str.replace('publications', 'publication').str.replace('publication','')\n",
    "df.raw_pub = df.raw_pub.str.replace('productions', '').str.replace('paperbacks','paperback').str.replace('paperback','')\n",
    "df.raw_pub = df.raw_pub.str.replace('editions', '').str.replace('enterprises','').str.replace(' press','').str.replace(' publ.','')\n",
    "df.raw_pub = df.raw_pub.str.replace(' hardcover', '').str.replace('u. s. a', 'usa').str.replace('u. k', 'uk')\n",
    "df.raw_pub = df.raw_pub.str.replace(' usa', '').str.replace(' uk', '')\n",
    "df.raw_pub = df.raw_pub.str.normalize('NFKD').str.encode('ascii', errors='ignore').str.decode('utf-8')"
   ]
  },
  {
   "cell_type": "code",
   "execution_count": null,
   "id": "25fdb291-ed7d-429e-9125-55ce71467612",
   "metadata": {},
   "outputs": [],
   "source": [
    "# dropping non-informative & erroneous column 'isbn13'\n",
    "df.drop('isbn13', axis=1, inplace=True)\n",
    "\n",
    "# Seperate books with multiple authors into a list of the different author names \n",
    "df['authors_comb'] = df.authors.str.split('/')\n",
    "\n",
    "# Creating seperate columns for multiple authors\n",
    "authors = df.authors.str.split('/', expand=True)\n",
    "cols = ['author_'+ str(x+1) for x in authors.columns]\n",
    "authors.columns = cols \n",
    "\n",
    "#Concatenating with the parent dataframe\n",
    "df = pd.concat([df,authors], axis=1)\n",
    "df.replace({None: np.nan}, inplace=True)\n",
    "\n",
    "# Dropping Authors without ratings which won't be useful for the model\n",
    "no_ratings = df[df.average_rating==0].index\n",
    "df = df.drop(no_ratings,axis=0)\n",
    "\n",
    "df.head()"
   ]
  },
  {
   "cell_type": "code",
   "execution_count": null,
   "id": "62dd2ab9",
   "metadata": {},
   "outputs": [],
   "source": [
    "# Saving the cleaned file to the project directory\n",
    "df.to_csv(r\"C:\\Users\\Ashis\\Desktop\\ML Project\\Project 1\\books_cleaned.csv\")"
   ]
  }
 ],
 "metadata": {
  "kernelspec": {
   "display_name": "Python 3 (ipykernel)",
   "language": "python",
   "name": "python3"
  },
  "language_info": {
   "codemirror_mode": {
    "name": "ipython",
    "version": 3
   },
   "file_extension": ".py",
   "mimetype": "text/x-python",
   "name": "python",
   "nbconvert_exporter": "python",
   "pygments_lexer": "ipython3",
   "version": "3.11.5"
  }
 },
 "nbformat": 4,
 "nbformat_minor": 5
}
